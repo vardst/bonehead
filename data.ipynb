{
 "cells": [
  {
   "cell_type": "code",
   "execution_count": 1,
   "metadata": {},
   "outputs": [
    {
     "name": "stdout",
     "output_type": "stream",
     "text": [
      "\n",
      "Formula for hp:\n",
      "hp = -1520.7630425109035 + 100.41300419925489*item_lvl + 759.6688667984611*rarity\n",
      "\n",
      "Formula for attack:\n",
      "attack = -260.00838292381445 + 20.43144891528763*item_lvl + 190.02599630830255*rarity\n",
      "\n",
      "Formula for def:\n",
      "def = -117.0533417449738 + 7.513314495975254*item_lvl + 71.9282769988141*rarity\n"
     ]
    }
   ],
   "source": [
    "import pandas as pd\n",
    "import numpy as np\n",
    "import statsmodels.api as sm\n",
    "\n",
    "df = pd.read_csv('data.csv')\n",
    "df = df.dropna()\n",
    "df = df.replace([np.inf, -np.inf], np.nan).dropna()\n",
    "X = df[['item_lvl', 'rarity']]\n",
    "X = sm.add_constant(X) # add constant (intercept term) to predictors\n",
    "\n",
    "# Outcome variables\n",
    "outcome_variables = ['hp', 'attack', 'def']\n",
    "\n",
    "for outcome_var in outcome_variables:\n",
    "    Y = df[outcome_var]\n",
    "    model = sm.OLS(Y, X).fit()\n",
    "    # print(f\"\\nRegression results for: {outcome_var}\")\n",
    "    # print(model.summary())\n",
    "    print(f\"\\nFormula for {outcome_var}:\")\n",
    "    print(f\"{outcome_var} = {model.params[0]} + {model.params[1]}*item_lvl + {model.params[2]}*rarity\")"
   ]
  }
 ],
 "metadata": {
  "kernelspec": {
   "display_name": "bonehead",
   "language": "python",
   "name": "python3"
  },
  "language_info": {
   "codemirror_mode": {
    "name": "ipython",
    "version": 3
   },
   "file_extension": ".py",
   "mimetype": "text/x-python",
   "name": "python",
   "nbconvert_exporter": "python",
   "pygments_lexer": "ipython3",
   "version": "3.11.2"
  },
  "orig_nbformat": 4
 },
 "nbformat": 4,
 "nbformat_minor": 2
}
